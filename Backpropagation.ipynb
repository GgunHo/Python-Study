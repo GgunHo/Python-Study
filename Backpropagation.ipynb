{
 "cells": [
  {
   "cell_type": "markdown",
   "metadata": {},
   "source": [
    "### Initialize a network"
   ]
  },
  {
   "cell_type": "code",
   "execution_count": 77,
   "metadata": {},
   "outputs": [],
   "source": [
    "#Initialize a network\n",
    "def initialize_network(n_inputs, n_hidden, n_outputs):\n",
    "    network = list()\n",
    "    hidden_layer = [{'weights' : [random() for i in range(n_inputs+1)]}for i in range(n_hidden)]\n",
    "    network.append(hidden_layer)\n",
    "    output_layer = [{'weights' : [random() for i in range(n_hidden+1)]}for i in range(n_outputs)]\n",
    "    network.append(output_layer)\n",
    "    return network"
   ]
  },
  {
   "cell_type": "code",
   "execution_count": 78,
   "metadata": {},
   "outputs": [],
   "source": [
    "from random import seed\n",
    "from random import random\n",
    "from math import exp"
   ]
  },
  {
   "cell_type": "code",
   "execution_count": 79,
   "metadata": {},
   "outputs": [
    {
     "name": "stdout",
     "output_type": "stream",
     "text": [
      "[{'weights': [0.13436424411240122, 0.8474337369372327]}, {'weights': [0.763774618976614, 0.2550690257394217]}]\n",
      "[{'weights': [0.49543508709194095, 0.4494910647887381, 0.651592972722763]}, {'weights': [0.7887233511355132, 0.0938595867742349, 0.02834747652200631]}]\n"
     ]
    }
   ],
   "source": [
    "seed(1)\n",
    "network = initialize_network(1,2,2)\n",
    "for layer in network:\n",
    "    print(layer)"
   ]
  },
  {
   "cell_type": "markdown",
   "metadata": {},
   "source": [
    "### Forward Propagate"
   ]
  },
  {
   "cell_type": "code",
   "execution_count": 5,
   "metadata": {},
   "outputs": [],
   "source": [
    "#calculate neuron activation for an input\n",
    "def activate(weights, inputs):\n",
    "    activation = weights[-1]\n",
    "    for i in range(len(weights)-1):\n",
    "        activation += weights[i] * inputs[i]\n",
    "    return activation"
   ]
  },
  {
   "cell_type": "code",
   "execution_count": 6,
   "metadata": {},
   "outputs": [],
   "source": [
    "#1. Neuron Activation\n",
    "#activation = sum(weight_i * input_i) + bias\n",
    "def activation(weights, inputs):\n",
    "    activation = weights[-1]\n",
    "    for i in range(len(weights)-1):\n",
    "        activation += weights[i] * inputs[i]\n",
    "    return activation\n"
   ]
  },
  {
   "cell_type": "code",
   "execution_count": 7,
   "metadata": {},
   "outputs": [],
   "source": [
    "#2. Neuron Transfer\n",
    "#output = 1 / (1 + e^(-activation))\n",
    "def transfer(activation):\n",
    "    return 1.0 / (1.0 + exp(-activation))"
   ]
  },
  {
   "cell_type": "code",
   "execution_count": 8,
   "metadata": {},
   "outputs": [],
   "source": [
    "#3. Forward Propagation\n",
    "#Forward propagate input to a network output\n",
    "def forward_propagate(network, row):\n",
    "    inputs = row\n",
    "    for layer in network:\n",
    "        new_inputs = []\n",
    "        for neuron in layer:\n",
    "            activation = activate(neuron['weights'], inputs)\n",
    "            neuron['output'] = transfer(activation)\n",
    "            new_inputs.append(neuron['output'])\n",
    "        inputs = new_inputs\n",
    "    return inputs"
   ]
  },
  {
   "cell_type": "code",
   "execution_count": 47,
   "metadata": {
    "scrolled": true
   },
   "outputs": [
    {
     "name": "stdout",
     "output_type": "stream",
     "text": [
      "network :  [[{'weights': [0.8357651039198697, 0.43276706790505337, 0.762280082457942], 'output': 0.8317449956175151}], [{'weights': [0.0021060533511106927, 0.4453871940548014], 'output': 0.6099587652788487}, {'weights': [0.7215400323407826, 0.22876222127045265], 'output': 0.6961221914499027}]]\n",
      "output :  [0.6099587652788487, 0.6961221914499027]\n"
     ]
    }
   ],
   "source": [
    "#test forward propagation\n",
    "network = initialize_network(2,1,2)\n",
    "row = [1,0, None]\n",
    "output = forward_propagate(network, row)\n",
    "print('network : ',network)\n",
    "print('output : ',output)"
   ]
  },
  {
   "cell_type": "code",
   "execution_count": 48,
   "metadata": {},
   "outputs": [
    {
     "data": {
      "text/plain": [
       "[[{'weights': [0.8357651039198697, 0.43276706790505337, 0.762280082457942],\n",
       "   'output': 0.8317449956175151}],\n",
       " [{'weights': [0.0021060533511106927, 0.4453871940548014],\n",
       "   'output': 0.6099587652788487},\n",
       "  {'weights': [0.7215400323407826, 0.22876222127045265],\n",
       "   'output': 0.6961221914499027}]]"
      ]
     },
     "execution_count": 48,
     "metadata": {},
     "output_type": "execute_result"
    }
   ],
   "source": [
    "network"
   ]
  },
  {
   "cell_type": "code",
   "execution_count": 49,
   "metadata": {},
   "outputs": [
    {
     "data": {
      "text/plain": [
       "[0.6099587652788487, 0.6961221914499027]"
      ]
     },
     "execution_count": 49,
     "metadata": {},
     "output_type": "execute_result"
    }
   ],
   "source": [
    "output"
   ]
  },
  {
   "cell_type": "markdown",
   "metadata": {},
   "source": [
    "### Back propagate Error"
   ]
  },
  {
   "cell_type": "code",
   "execution_count": 10,
   "metadata": {},
   "outputs": [],
   "source": [
    "#Calculate the derivative of an neuron output\n",
    "def transfer_derivative(output):\n",
    "    return output * (1.0 - output)"
   ]
  },
  {
   "cell_type": "code",
   "execution_count": 16,
   "metadata": {},
   "outputs": [],
   "source": [
    "#Backpropagate error and store in neurons\n",
    "def backward_propagate_error(network, expected):\n",
    "    for i in reversed(range(len(network))):\n",
    "        layer = network[i]\n",
    "        errors = list()\n",
    "        if i != len(network)-1:\n",
    "            for j in range(len(layer)):\n",
    "                error = 0.0\n",
    "                for neuron in network[i+1]:\n",
    "                    error += (neuron['weights'][j] * neuron['delta'])\n",
    "                errors.append(error)\n",
    "        else:\n",
    "            for j in range(len(layer)):\n",
    "                neuron = layer[j]\n",
    "                errors.append(expected[j] - neuron['output'])\n",
    "        for j in range(len(layer)):\n",
    "            neuron = layer[j]\n",
    "            neuron['delta'] = errors[j] * transfer_derivative(neuron['output'])"
   ]
  },
  {
   "cell_type": "code",
   "execution_count": null,
   "metadata": {},
   "outputs": [],
   "source": [
    "expected = [0,1]\n",
    "backward_propagate_error(network, expected)\n",
    "for layer in network:\n",
    "    print(layer)"
   ]
  },
  {
   "cell_type": "code",
   "execution_count": null,
   "metadata": {},
   "outputs": [],
   "source": [
    "network"
   ]
  },
  {
   "cell_type": "markdown",
   "metadata": {},
   "source": [
    "### Train Network"
   ]
  },
  {
   "cell_type": "code",
   "execution_count": 23,
   "metadata": {},
   "outputs": [],
   "source": [
    "#Update network weights with error\n",
    "def update_weights(network, row, l_rate):\n",
    "    for i in range(len(network)):\n",
    "        inputs = row[:-1]\n",
    "        if i != 0:\n",
    "            inputs = [neuron['output'] for neuron in network[i-1]]\n",
    "        for neuron in network[i]:\n",
    "            for j in range(len(inputs)):\n",
    "                neuron['weights'][j] += l_rate * neuron['delta'] * inputs[j]\n",
    "            neuron['weights'][-1] += l_rate * neuron['delta']"
   ]
  },
  {
   "cell_type": "code",
   "execution_count": 28,
   "metadata": {},
   "outputs": [],
   "source": [
    "#Train a network for a fixed number of epochs\n",
    "def train_network(network, train, l_rate, n_epoch, n_outputs):\n",
    "    for epoch in range(n_epoch):\n",
    "        sum_error = 0\n",
    "        for row in train:\n",
    "            outputs = forward_propagate(network, row)\n",
    "            expected = [0 for i in range(n_outputs)]\n",
    "            expected[row[-1]] = 1\n",
    "            sum_error += sum([(expected[i] - outputs[i])**2 for i in range(len(expected))])\n",
    "            backward_propagate_error(network, expected)\n",
    "            update_weights(network, row, l_rate)\n",
    "        print('>>epoch = %d, l_rate = %.3f, error = %.3f' %(epoch, l_rate, sum_error))"
   ]
  },
  {
   "cell_type": "code",
   "execution_count": null,
   "metadata": {},
   "outputs": [],
   "source": [
    "# Test training backprop algorithm\n",
    "seed(1)\n",
    "dataset = [[2.7810836,2.550537003,0],\n",
    "[1.465489372,2.362125076,0],\n",
    "[3.396561688,4.400293529,0],\n",
    "[1.38807019,1.850220317,0],\n",
    "[3.06407232,3.005305973,0],\n",
    "[7.627531214,2.759262235,1],\n",
    "[5.332441248,2.088626775,1],\n",
    "[6.922596716,1.77106367,1],\n",
    "[8.675418651,-0.242068655,1],\n",
    "[7.673756466,3.508563011,1]]\n",
    "n_inputs = len(dataset[0]) - 1\n",
    "n_outputs = len(set([row[-1] for row in dataset]))\n",
    "network = initialize_network(n_inputs, 2, n_outputs)\n",
    "train_network(network, dataset, 0.5, 20, n_outputs)\n",
    "for layer in network :\n",
    "    print(layer)"
   ]
  },
  {
   "cell_type": "markdown",
   "metadata": {},
   "source": [
    "### Example of backpropagation"
   ]
  },
  {
   "cell_type": "code",
   "execution_count": 3,
   "metadata": {},
   "outputs": [
    {
     "data": {
      "image/png": "[encoded data removed]",
      "text/plain": [
       "<PIL.PngImagePlugin.PngImageFile image mode=RGBA size=933x392 at 0x1B62725BA20>"
      ]
     },
     "execution_count": 3,
     "metadata": {},
     "output_type": "execute_result"
    }
   ],
   "source": [
    "from PIL import Image\n",
    "im = Image.open('backpropagation.png')\n",
    "im"
   ]
  },
  {
   "cell_type": "code",
   "execution_count": 103,
   "metadata": {},
   "outputs": [],
   "source": [
    "#Initialize a network\n",
    "def initialize_network(hidden1, hidden2):\n",
    "    network = list()\n",
    "    hidden_layer1 = [{'weights' : [hidden1[i][j] for j in range(len(hidden1[0]))]}for i in range(len(hidden1))]\n",
    "    network.append(hidden_layer1)\n",
    "    hidden_layer2 = [{'weights' : [hidden2[i][j] for j in range(len(hidden2[0]))]} for i in range(len(hidden2))]\n",
    "    network.append(hidden_layer2)\n",
    "    return network"
   ]
  },
  {
   "cell_type": "code",
   "execution_count": 305,
   "metadata": {},
   "outputs": [],
   "source": [
    "from math import exp\n",
    "#calculate neuron activation for an input\n",
    "def activate(weights, inputs):\n",
    "    activation = 0\n",
    "    for i in range(len(weights)):\n",
    "        activation += weights[i] * inputs[i]\n",
    "    return activation\n",
    "\n",
    "#1. Neuron Activation\n",
    "#activation = sum(weight_i * input_i) + bias\n",
    "def activation(weights, inputs):\n",
    "    activation = 0\n",
    "    for i in range(len(weights)):\n",
    "        activation += weights[i] * inputs[i]\n",
    "    return activation\n",
    "\n",
    "#2. Neuron Transfer\n",
    "#output = 1 / (1 + e^(-activation))\n",
    "def transfer(activation):\n",
    "    return 1.0 / (1.0 + exp(-activation))\n",
    "\n",
    "#3. Forward Propagation\n",
    "#Forward propagate input to a network output\n",
    "def forward_propagate(network, row):\n",
    "    inputs = row\n",
    "    for layer in network:\n",
    "        new_inputs = []\n",
    "        for neuron in layer:\n",
    "            activation = activate(neuron['weights'], inputs)\n",
    "            neuron['output'] = transfer(activation)\n",
    "            new_inputs.append(neuron['output'])\n",
    "        inputs = new_inputs\n",
    "    return inputs\n",
    "\n",
    "#Calculate the derivative of an neuron output\n",
    "def transfer_derivative(output):\n",
    "    return output * (1.0 - output)\n",
    "\n",
    "#Backpropagate error and store in neurons\n",
    "def backward_propagate_error(network, expected):\n",
    "    for i in reversed(range(len(network))):\n",
    "        layer = network[i]\n",
    "        errors = list()\n",
    "        if i != len(network)-1:\n",
    "            for j in range(len(layer)):\n",
    "                error = 0.0\n",
    "                for neuron in network[i+1]:\n",
    "                    error += (neuron['weights'][j] * neuron['delta'])\n",
    "                errors.append(error)\n",
    "        else:\n",
    "            for j in range(len(layer)):\n",
    "                neuron = layer[j]\n",
    "                errors.append(expected[j] - neuron['output'])\n",
    "        for j in range(len(layer)):\n",
    "            neuron = layer[j]\n",
    "            neuron['delta'] = errors[j] * transfer_derivative(neuron['output'])\n",
    "            \n",
    "#Update network weights with error\n",
    "def update_weights(network, row, l_rate):\n",
    "    for i in range(len(network)):\n",
    "        inputs = row[:-1]\n",
    "        if i != 0:\n",
    "            inputs = [neuron['output'] for neuron in network[i-1]]\n",
    "        for neuron in network[i]:\n",
    "            for j in range(len(inputs)):\n",
    "                neuron['weights'][j] += l_rate * neuron['delta'] * inputs[j]\n",
    "            neuron['weights'][-1] += l_rate * neuron['delta']\n",
    "            \n",
    "#Train a network for a fixed number of epochs\n",
    "def train_network(network, train, l_rate, n_epoch):\n",
    "    errors = []\n",
    "    weights = []\n",
    "    for epoch in range(n_epoch):\n",
    "        sum_error = 0\n",
    "        for row in train:\n",
    "            outputs = forward_propagate(network, row)\n",
    "            expected = [0.3, 0.9]\n",
    "            sum_error += 0.5*sum([(expected[i] - outputs[i])**2 for i in range(len(expected))])\n",
    "            backward_propagate_error(network, expected)\n",
    "            update_weights(network, row, l_rate)\n",
    "        k = [network[i][j]['weights'] for i in range(len(network)) for j in range(len(network[i]))]    \n",
    "        print('>>epoch = %d, l_rate = %.3f, error = %.3f' %(epoch, l_rate, sum_error))\n",
    "        errors.append(sum_error)\n",
    "    return errors"
   ]
  },
  {
   "cell_type": "code",
   "execution_count": 306,
   "metadata": {
    "scrolled": true
   },
   "outputs": [
    {
     "name": "stdout",
     "output_type": "stream",
     "text": [
      ">>epoch = 0, l_rate = 0.500, error = 0.083\n",
      ">>epoch = 1, l_rate = 0.500, error = 0.078\n",
      ">>epoch = 2, l_rate = 0.500, error = 0.074\n",
      ">>epoch = 3, l_rate = 0.500, error = 0.069\n",
      ">>epoch = 4, l_rate = 0.500, error = 0.065\n",
      ">>epoch = 5, l_rate = 0.500, error = 0.062\n",
      ">>epoch = 6, l_rate = 0.500, error = 0.058\n",
      ">>epoch = 7, l_rate = 0.500, error = 0.054\n",
      ">>epoch = 8, l_rate = 0.500, error = 0.051\n",
      ">>epoch = 9, l_rate = 0.500, error = 0.048\n",
      ">>epoch = 10, l_rate = 0.500, error = 0.045\n",
      ">>epoch = 11, l_rate = 0.500, error = 0.043\n",
      ">>epoch = 12, l_rate = 0.500, error = 0.040\n",
      ">>epoch = 13, l_rate = 0.500, error = 0.038\n",
      ">>epoch = 14, l_rate = 0.500, error = 0.036\n",
      ">>epoch = 15, l_rate = 0.500, error = 0.034\n",
      ">>epoch = 16, l_rate = 0.500, error = 0.032\n",
      ">>epoch = 17, l_rate = 0.500, error = 0.030\n",
      ">>epoch = 18, l_rate = 0.500, error = 0.028\n",
      ">>epoch = 19, l_rate = 0.500, error = 0.027\n",
      ">>epoch = 20, l_rate = 0.500, error = 0.025\n",
      ">>epoch = 21, l_rate = 0.500, error = 0.024\n",
      ">>epoch = 22, l_rate = 0.500, error = 0.023\n",
      ">>epoch = 23, l_rate = 0.500, error = 0.021\n",
      ">>epoch = 24, l_rate = 0.500, error = 0.020\n",
      ">>epoch = 25, l_rate = 0.500, error = 0.019\n",
      ">>epoch = 26, l_rate = 0.500, error = 0.018\n",
      ">>epoch = 27, l_rate = 0.500, error = 0.017\n",
      ">>epoch = 28, l_rate = 0.500, error = 0.016\n",
      ">>epoch = 29, l_rate = 0.500, error = 0.015\n",
      ">>epoch = 30, l_rate = 0.500, error = 0.015\n",
      ">>epoch = 31, l_rate = 0.500, error = 0.014\n",
      ">>epoch = 32, l_rate = 0.500, error = 0.013\n",
      ">>epoch = 33, l_rate = 0.500, error = 0.013\n",
      ">>epoch = 34, l_rate = 0.500, error = 0.012\n",
      ">>epoch = 35, l_rate = 0.500, error = 0.011\n",
      ">>epoch = 36, l_rate = 0.500, error = 0.011\n",
      ">>epoch = 37, l_rate = 0.500, error = 0.010\n",
      ">>epoch = 38, l_rate = 0.500, error = 0.010\n",
      ">>epoch = 39, l_rate = 0.500, error = 0.009\n",
      ">>epoch = 40, l_rate = 0.500, error = 0.009\n",
      ">>epoch = 41, l_rate = 0.500, error = 0.009\n",
      ">>epoch = 42, l_rate = 0.500, error = 0.008\n",
      ">>epoch = 43, l_rate = 0.500, error = 0.008\n",
      ">>epoch = 44, l_rate = 0.500, error = 0.007\n",
      ">>epoch = 45, l_rate = 0.500, error = 0.007\n",
      ">>epoch = 46, l_rate = 0.500, error = 0.007\n",
      ">>epoch = 47, l_rate = 0.500, error = 0.007\n",
      ">>epoch = 48, l_rate = 0.500, error = 0.006\n",
      ">>epoch = 49, l_rate = 0.500, error = 0.006\n",
      ">>epoch = 50, l_rate = 0.500, error = 0.006\n",
      ">>epoch = 51, l_rate = 0.500, error = 0.006\n",
      ">>epoch = 52, l_rate = 0.500, error = 0.005\n",
      ">>epoch = 53, l_rate = 0.500, error = 0.005\n",
      ">>epoch = 54, l_rate = 0.500, error = 0.005\n",
      ">>epoch = 55, l_rate = 0.500, error = 0.005\n",
      ">>epoch = 56, l_rate = 0.500, error = 0.005\n",
      ">>epoch = 57, l_rate = 0.500, error = 0.004\n",
      ">>epoch = 58, l_rate = 0.500, error = 0.004\n",
      ">>epoch = 59, l_rate = 0.500, error = 0.004\n",
      ">>epoch = 60, l_rate = 0.500, error = 0.004\n",
      ">>epoch = 61, l_rate = 0.500, error = 0.004\n",
      ">>epoch = 62, l_rate = 0.500, error = 0.004\n",
      ">>epoch = 63, l_rate = 0.500, error = 0.004\n",
      ">>epoch = 64, l_rate = 0.500, error = 0.003\n",
      ">>epoch = 65, l_rate = 0.500, error = 0.003\n",
      ">>epoch = 66, l_rate = 0.500, error = 0.003\n",
      ">>epoch = 67, l_rate = 0.500, error = 0.003\n",
      ">>epoch = 68, l_rate = 0.500, error = 0.003\n",
      ">>epoch = 69, l_rate = 0.500, error = 0.003\n",
      ">>epoch = 70, l_rate = 0.500, error = 0.003\n",
      ">>epoch = 71, l_rate = 0.500, error = 0.003\n",
      ">>epoch = 72, l_rate = 0.500, error = 0.003\n",
      ">>epoch = 73, l_rate = 0.500, error = 0.003\n",
      ">>epoch = 74, l_rate = 0.500, error = 0.002\n",
      ">>epoch = 75, l_rate = 0.500, error = 0.002\n",
      ">>epoch = 76, l_rate = 0.500, error = 0.002\n",
      ">>epoch = 77, l_rate = 0.500, error = 0.002\n",
      ">>epoch = 78, l_rate = 0.500, error = 0.002\n",
      ">>epoch = 79, l_rate = 0.500, error = 0.002\n",
      ">>epoch = 80, l_rate = 0.500, error = 0.002\n",
      ">>epoch = 81, l_rate = 0.500, error = 0.002\n",
      ">>epoch = 82, l_rate = 0.500, error = 0.002\n",
      ">>epoch = 83, l_rate = 0.500, error = 0.002\n",
      ">>epoch = 84, l_rate = 0.500, error = 0.002\n",
      ">>epoch = 85, l_rate = 0.500, error = 0.002\n",
      ">>epoch = 86, l_rate = 0.500, error = 0.002\n",
      ">>epoch = 87, l_rate = 0.500, error = 0.002\n",
      ">>epoch = 88, l_rate = 0.500, error = 0.002\n",
      ">>epoch = 89, l_rate = 0.500, error = 0.002\n",
      ">>epoch = 90, l_rate = 0.500, error = 0.002\n",
      ">>epoch = 91, l_rate = 0.500, error = 0.001\n",
      ">>epoch = 92, l_rate = 0.500, error = 0.001\n",
      ">>epoch = 93, l_rate = 0.500, error = 0.001\n",
      ">>epoch = 94, l_rate = 0.500, error = 0.001\n",
      ">>epoch = 95, l_rate = 0.500, error = 0.001\n",
      ">>epoch = 96, l_rate = 0.500, error = 0.001\n",
      ">>epoch = 97, l_rate = 0.500, error = 0.001\n",
      ">>epoch = 98, l_rate = 0.500, error = 0.001\n",
      ">>epoch = 99, l_rate = 0.500, error = 0.001\n"
     ]
    }
   ],
   "source": [
    "#test forward propagation\n",
    "hidden1 = [[0.15], [0.2]]\n",
    "hidden2 = [[0.4, 0.45], [0.5, 0.55]]\n",
    "network = initialize_network(hidden1, hidden2)\n",
    "dataset = [[0.5]]\n",
    "a = train_network(network, dataset, 0.5, 100)"
   ]
  },
  {
   "cell_type": "code",
   "execution_count": 288,
   "metadata": {
    "collapsed": true
   },
   "outputs": [
    {
     "data": {
      "text/plain": [
       "[0.08324529829818045,\n",
       " 0.07837441759151743,\n",
       " 0.07377804325995407,\n",
       " 0.06944371672737623,\n",
       " 0.06535929784055891,\n",
       " 0.06151294307578087,\n",
       " 0.05789309472613831,\n",
       " 0.05448847925407525,\n",
       " 0.05128811271792831,\n",
       " 0.048281311157415366,\n",
       " 0.045457703968921626,\n",
       " 0.04280724855082384,\n",
       " 0.040320244800522154,\n",
       " 0.03798734836036396,\n",
       " 0.035799581812845226,\n",
       " 0.033748343299483785,\n",
       " 0.031825412273211014,\n",
       " 0.03002295228730486,\n",
       " 0.02833351087508535,\n",
       " 0.026750016686770482]"
      ]
     },
     "execution_count": 288,
     "metadata": {},
     "output_type": "execute_result"
    }
   ],
   "source": [
    "#errors\n",
    "a"
   ]
  },
  {
   "cell_type": "code",
   "execution_count": 294,
   "metadata": {
    "collapsed": true
   },
   "outputs": [
    {
     "data": {
      "text/plain": [
       "[[0.1813072254454108],\n",
       " [0.2919480015899428],\n",
       " [0.1047119550439185, -0.41802746837021393],\n",
       " [0.7327727107975223, 1.2342578357594174],\n",
       " [0.1813072254454108],\n",
       " [0.2919480015899428],\n",
       " [0.1047119550439185, -0.41802746837021393],\n",
       " [0.7327727107975223, 1.2342578357594174],\n",
       " [0.1813072254454108],\n",
       " [0.2919480015899428],\n",
       " [0.1047119550439185, -0.41802746837021393],\n",
       " [0.7327727107975223, 1.2342578357594174],\n",
       " [0.1813072254454108],\n",
       " [0.2919480015899428],\n",
       " [0.1047119550439185, -0.41802746837021393],\n",
       " [0.7327727107975223, 1.2342578357594174],\n",
       " [0.1813072254454108],\n",
       " [0.2919480015899428],\n",
       " [0.1047119550439185, -0.41802746837021393],\n",
       " [0.7327727107975223, 1.2342578357594174],\n",
       " [0.1813072254454108],\n",
       " [0.2919480015899428],\n",
       " [0.1047119550439185, -0.41802746837021393],\n",
       " [0.7327727107975223, 1.2342578357594174],\n",
       " [0.1813072254454108],\n",
       " [0.2919480015899428],\n",
       " [0.1047119550439185, -0.41802746837021393],\n",
       " [0.7327727107975223, 1.2342578357594174],\n",
       " [0.1813072254454108],\n",
       " [0.2919480015899428],\n",
       " [0.1047119550439185, -0.41802746837021393],\n",
       " [0.7327727107975223, 1.2342578357594174],\n",
       " [0.1813072254454108],\n",
       " [0.2919480015899428],\n",
       " [0.1047119550439185, -0.41802746837021393],\n",
       " [0.7327727107975223, 1.2342578357594174],\n",
       " [0.1813072254454108],\n",
       " [0.2919480015899428],\n",
       " [0.1047119550439185, -0.41802746837021393],\n",
       " [0.7327727107975223, 1.2342578357594174],\n",
       " [0.1813072254454108],\n",
       " [0.2919480015899428],\n",
       " [0.1047119550439185, -0.41802746837021393],\n",
       " [0.7327727107975223, 1.2342578357594174],\n",
       " [0.1813072254454108],\n",
       " [0.2919480015899428],\n",
       " [0.1047119550439185, -0.41802746837021393],\n",
       " [0.7327727107975223, 1.2342578357594174],\n",
       " [0.1813072254454108],\n",
       " [0.2919480015899428],\n",
       " [0.1047119550439185, -0.41802746837021393],\n",
       " [0.7327727107975223, 1.2342578357594174],\n",
       " [0.1813072254454108],\n",
       " [0.2919480015899428],\n",
       " [0.1047119550439185, -0.41802746837021393],\n",
       " [0.7327727107975223, 1.2342578357594174],\n",
       " [0.1813072254454108],\n",
       " [0.2919480015899428],\n",
       " [0.1047119550439185, -0.41802746837021393],\n",
       " [0.7327727107975223, 1.2342578357594174],\n",
       " [0.1813072254454108],\n",
       " [0.2919480015899428],\n",
       " [0.1047119550439185, -0.41802746837021393],\n",
       " [0.7327727107975223, 1.2342578357594174],\n",
       " [0.1813072254454108],\n",
       " [0.2919480015899428],\n",
       " [0.1047119550439185, -0.41802746837021393],\n",
       " [0.7327727107975223, 1.2342578357594174],\n",
       " [0.1813072254454108],\n",
       " [0.2919480015899428],\n",
       " [0.1047119550439185, -0.41802746837021393],\n",
       " [0.7327727107975223, 1.2342578357594174],\n",
       " [0.1813072254454108],\n",
       " [0.2919480015899428],\n",
       " [0.1047119550439185, -0.41802746837021393],\n",
       " [0.7327727107975223, 1.2342578357594174],\n",
       " [0.1813072254454108],\n",
       " [0.2919480015899428],\n",
       " [0.1047119550439185, -0.41802746837021393],\n",
       " [0.7327727107975223, 1.2342578357594174]]"
      ]
     },
     "execution_count": 294,
     "metadata": {},
     "output_type": "execute_result"
    }
   ],
   "source": [
    "b"
   ]
  },
  {
   "cell_type": "code",
   "execution_count": 299,
   "metadata": {},
   "outputs": [],
   "source": [
    "import matplotlib.pyplot as plt"
   ]
  },
  {
   "cell_type": "code",
   "execution_count": 307,
   "metadata": {},
   "outputs": [
    {
     "data": {
      "text/plain": [
       "Text(0,0.5,'error')"
      ]
     },
     "execution_count": 307,
     "metadata": {},
     "output_type": "execute_result"
    },
    {
     "data": {
      "image/png": "[encoded data removed]",
      "text/plain": [
       "<Figure size 432x288 with 1 Axes>"
      ]
     },
     "metadata": {},
     "output_type": "display_data"
    }
   ],
   "source": [
    "plt.plot(a)\n",
    "plt.title('Errors')\n",
    "plt.xlabel('trial')\n",
    "plt.ylabel('error')"
   ]
  },
  {
   "cell_type": "code",
   "execution_count": null,
   "metadata": {},
   "outputs": [],
   "source": []
  }
 ],
 "metadata": {
  "kernelspec": {
   "display_name": "Python 3",
   "language": "python",
   "name": "python3"
  },
  "language_info": {
   "codemirror_mode": {
    "name": "ipython",
    "version": 3
   },
   "file_extension": ".py",
   "mimetype": "text/x-python",
   "name": "python",
   "nbconvert_exporter": "python",
   "pygments_lexer": "ipython3",
   "version": "3.6.5"
  }
 },
 "nbformat": 4,
 "nbformat_minor": 2
}
