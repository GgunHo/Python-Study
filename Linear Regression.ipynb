{
 "cells": [
  {
   "cell_type": "markdown",
   "metadata": {},
   "source": [
    "H(x) = Wx + b"
   ]
  },
  {
   "cell_type": "code",
   "execution_count": 23,
   "metadata": {},
   "outputs": [
    {
     "name": "stdout",
     "output_type": "stream",
     "text": [
      "WARNING:tensorflow:From C:\\Users\\abcd4\\Anaconda3\\lib\\site-packages\\tensorflow_core\\python\\compat\\v2_compat.py:65: disable_resource_variables (from tensorflow.python.ops.variable_scope) is deprecated and will be removed in a future version.\n",
      "Instructions for updating:\n",
      "non-resource variables are not supported in the long term\n"
     ]
    }
   ],
   "source": [
    "import tensorflow.compat.v1 as tf\n",
    "tf.disable_v2_behavior()"
   ]
  },
  {
   "cell_type": "code",
   "execution_count": 24,
   "metadata": {},
   "outputs": [],
   "source": [
    "x_train = [1, 2, 3]\n",
    "y_train = [1, 2, 3]"
   ]
  },
  {
   "cell_type": "code",
   "execution_count": 25,
   "metadata": {},
   "outputs": [
    {
     "name": "stdout",
     "output_type": "stream",
     "text": [
      "WARNING:tensorflow:From C:\\Users\\abcd4\\Anaconda3\\lib\\site-packages\\tensorflow_core\\python\\ops\\resource_variable_ops.py:1630: calling BaseResourceVariable.__init__ (from tensorflow.python.ops.resource_variable_ops) with constraint is deprecated and will be removed in a future version.\n",
      "Instructions for updating:\n",
      "If using Keras pass *_constraint arguments to layers.\n"
     ]
    }
   ],
   "source": [
    "w = tf.Variable(tf.random.normal([1]), name = 'weight')"
   ]
  },
  {
   "cell_type": "code",
   "execution_count": 26,
   "metadata": {},
   "outputs": [],
   "source": [
    "b = tf.Variable(tf.random.normal([1]), name = 'bias')"
   ]
  },
  {
   "cell_type": "code",
   "execution_count": 27,
   "metadata": {},
   "outputs": [],
   "source": [
    "hypothesis = x_train * w + b"
   ]
  },
  {
   "cell_type": "code",
   "execution_count": 28,
   "metadata": {},
   "outputs": [],
   "source": [
    "#cost/loss function\n",
    "cost = tf.reduce_mean(tf.square(hypothesis - y_train))\n",
    "#reduce_mean 평균"
   ]
  },
  {
   "cell_type": "code",
   "execution_count": 29,
   "metadata": {},
   "outputs": [],
   "source": [
    "#GradientDescent\n",
    "#minimize\n",
    "optimizer = tf.train.GradientDescentOptimizer(learning_rate = 0.01)\n",
    "train = optimizer.minimize(cost)"
   ]
  },
  {
   "cell_type": "code",
   "execution_count": 30,
   "metadata": {},
   "outputs": [],
   "source": [
    "sess = tf.Session()\n",
    "sess.run(tf.global_variables_initializer())"
   ]
  },
  {
   "cell_type": "code",
   "execution_count": 32,
   "metadata": {},
   "outputs": [
    {
     "name": "stdout",
     "output_type": "stream",
     "text": [
      "0 0.020536756 [1.0277405] [-0.19698621]\n",
      "20 0.004148764 [1.0687785] [-0.1691023]\n",
      "40 0.003636467 [1.069578] [-0.15938146]\n",
      "60 0.0033015048 [1.0666922] [-0.15172231]\n",
      "80 0.0029984761 [1.0635943] [-0.14457588]\n",
      "100 0.0027232652 [1.060609] [-0.13777979]\n",
      "120 0.0024733087 [1.057761] [-0.13130447]\n",
      "140 0.0022462911 [1.0550464] [-0.12513354]\n",
      "160 0.0020401229 [1.0524595] [-0.11925272]\n",
      "180 0.0018528774 [1.0499941] [-0.11364829]\n",
      "200 0.0016828055 [1.0476446] [-0.10830726]\n",
      "220 0.0015283568 [1.0454055] [-0.10321728]\n",
      "240 0.0013880752 [1.0432715] [-0.09836645]\n",
      "260 0.0012606735 [1.0412378] [-0.0937436]\n",
      "280 0.0011449583 [1.0392997] [-0.08933783]\n",
      "300 0.0010398692 [1.0374528] [-0.0851392]\n",
      "320 0.0009444263 [1.0356927] [-0.08113798]\n",
      "340 0.0008577387 [1.0340152] [-0.07732476]\n",
      "360 0.000779013 [1.0324167] [-0.07369073]\n",
      "380 0.0007075086 [1.0308932] [-0.07022751]\n",
      "400 0.0006425711 [1.0294412] [-0.06692701]\n",
      "420 0.00058359146 [1.0280576] [-0.06378163]\n",
      "440 0.000530027 [1.026739] [-0.06078412]\n",
      "460 0.0004813824 [1.0254824] [-0.05792748]\n",
      "480 0.00043719786 [1.0242848] [-0.05520509]\n",
      "500 0.00039707008 [1.0231436] [-0.05261069]\n",
      "520 0.00036062556 [1.022056] [-0.05013826]\n",
      "540 0.00032753186 [1.0210196] [-0.04778203]\n",
      "560 0.0002974623 [1.0200313] [-0.04553642]\n",
      "580 0.00027016184 [1.0190899] [-0.04339629]\n",
      "600 0.00024536534 [1.0181929] [-0.04135676]\n",
      "620 0.00022284588 [1.0173379] [-0.03941309]\n",
      "640 0.00020239188 [1.016523] [-0.03756081]\n",
      "660 0.0001838135 [1.0157465] [-0.03579555]\n",
      "680 0.00016694168 [1.0150065] [-0.03411329]\n",
      "700 0.00015161904 [1.0143012] [-0.0325101]\n",
      "720 0.00013770354 [1.0136291] [-0.0309822]\n",
      "740 0.0001250631 [1.0129886] [-0.02952613]\n",
      "760 0.000113586044 [1.0123782] [-0.0281385]\n",
      "780 0.0001031601 [1.0117965] [-0.02681611]\n",
      "800 9.369171e-05 [1.0112422] [-0.02555588]\n",
      "820 8.5092535e-05 [1.0107137] [-0.02435487]\n",
      "840 7.728267e-05 [1.0102104] [-0.02321033]\n",
      "860 7.018912e-05 [1.0097303] [-0.02211955]\n",
      "880 6.3747844e-05 [1.0092732] [-0.02107999]\n",
      "900 5.7895202e-05 [1.0088372] [-0.0200893]\n",
      "920 5.2581963e-05 [1.008422] [-0.01914516]\n",
      "940 4.775664e-05 [1.0080262] [-0.01824544]\n",
      "960 4.3372303e-05 [1.007649] [-0.01738799]\n",
      "980 3.939246e-05 [1.0072896] [-0.01657085]\n",
      "1000 3.5776844e-05 [1.006947] [-0.01579211]\n",
      "1020 3.2493685e-05 [1.0066205] [-0.01504998]\n",
      "1040 2.95109e-05 [1.0063093] [-0.01434264]\n",
      "1060 2.6801703e-05 [1.0060128] [-0.01366857]\n",
      "1080 2.4342115e-05 [1.0057303] [-0.01302619]\n",
      "1100 2.210793e-05 [1.005461] [-0.01241401]\n",
      "1120 2.0078924e-05 [1.0052044] [-0.01183062]\n",
      "1140 1.8236087e-05 [1.0049598] [-0.01127466]\n",
      "1160 1.6562144e-05 [1.0047266] [-0.01074481]\n",
      "1180 1.5042014e-05 [1.0045046] [-0.01023988]\n",
      "1200 1.3661099e-05 [1.0042928] [-0.00975864]\n",
      "1220 1.2407454e-05 [1.004091] [-0.00930001]\n",
      "1240 1.1268751e-05 [1.0038987] [-0.00886292]\n",
      "1260 1.02345075e-05 [1.0037156] [-0.00844637]\n",
      "1280 9.295148e-06 [1.003541] [-0.00804947]\n",
      "1300 8.442107e-06 [1.0033746] [-0.0076712]\n",
      "1320 7.667277e-06 [1.003216] [-0.00731067]\n",
      "1340 6.963404e-06 [1.0030649] [-0.0069671]\n",
      "1360 6.324337e-06 [1.002921] [-0.00663973]\n",
      "1380 5.7440907e-06 [1.0027837] [-0.00632774]\n",
      "1400 5.2171076e-06 [1.0026528] [-0.0060304]\n",
      "1420 4.7379194e-06 [1.0025282] [-0.00574699]\n",
      "1440 4.3031278e-06 [1.0024093] [-0.00547695]\n",
      "1460 3.9083156e-06 [1.0022961] [-0.00521959]\n",
      "1480 3.5497903e-06 [1.0021883] [-0.00497433]\n",
      "1500 3.2240735e-06 [1.0020854] [-0.00474058]\n",
      "1520 2.9280418e-06 [1.0019875] [-0.0045178]\n",
      "1540 2.659427e-06 [1.0018941] [-0.00430553]\n",
      "1560 2.4154067e-06 [1.0018051] [-0.00410325]\n",
      "1580 2.1936173e-06 [1.0017203] [-0.00391049]\n",
      "1600 1.9925164e-06 [1.0016395] [-0.00372673]\n",
      "1620 1.8095288e-06 [1.0015624] [-0.00355165]\n",
      "1640 1.6436484e-06 [1.0014892] [-0.00338482]\n",
      "1660 1.4927886e-06 [1.0014191] [-0.00322582]\n",
      "1680 1.3558159e-06 [1.0013525] [-0.00307432]\n",
      "1700 1.231638e-06 [1.0012891] [-0.00292996]\n",
      "1720 1.11869e-06 [1.0012286] [-0.0027924]\n",
      "1740 1.0161247e-06 [1.0011708] [-0.00266128]\n",
      "1760 9.227499e-07 [1.0011157] [-0.00253631]\n",
      "1780 8.3814075e-07 [1.0010633] [-0.00241722]\n",
      "1800 7.6133705e-07 [1.0010134] [-0.00230372]\n",
      "1820 6.9154845e-07 [1.0009658] [-0.00219557]\n",
      "1840 6.2812364e-07 [1.0009205] [-0.00209254]\n",
      "1860 5.705474e-07 [1.0008774] [-0.0019943]\n",
      "1880 5.182971e-07 [1.0008364] [-0.00190069]\n",
      "1900 4.707239e-07 [1.0007972] [-0.00181146]\n",
      "1920 4.2762744e-07 [1.0007596] [-0.00172644]\n",
      "1940 3.8836552e-07 [1.0007238] [-0.00164546]\n",
      "1960 3.5290066e-07 [1.0006902] [-0.00156829]\n",
      "1980 3.2057642e-07 [1.0006577] [-0.00149469]\n",
      "2000 2.9119332e-07 [1.0006267] [-0.00142461]\n"
     ]
    }
   ],
   "source": [
    "for step in range(2001):\n",
    "    sess.run(train)\n",
    "    if step % 20 == 0:\n",
    "        print(step, sess.run(cost), sess.run(w), sess.run(b))"
   ]
  },
  {
   "cell_type": "code",
   "execution_count": 33,
   "metadata": {},
   "outputs": [],
   "source": [
    "#placeholders for a tensor that will be always fed using feed_dict\n",
    "x = tf.placeholder(tf.float32)\n",
    "y = tf.placeholder(tf.float32)\n"
   ]
  },
  {
   "cell_type": "code",
   "execution_count": 34,
   "metadata": {},
   "outputs": [
    {
     "name": "stdout",
     "output_type": "stream",
     "text": [
      "0 2.9119332e-07 [1.0006267] [-0.00142461]\n",
      "20 2.645244e-07 [1.0005976] [-0.00135776]\n",
      "40 2.401754e-07 [1.0005692] [-0.00129407]\n",
      "60 2.1829783e-07 [1.0005429] [-0.00123342]\n",
      "80 1.9826733e-07 [1.0005171] [-0.00117551]\n",
      "100 1.8014015e-07 [1.0004933] [-0.0011205]\n",
      "120 1.6365784e-07 [1.0004698] [-0.00106794]\n",
      "140 1.48681e-07 [1.0004481] [-0.00101792]\n",
      "160 1.3500788e-07 [1.0004267] [-0.00097021]\n",
      "180 1.2267803e-07 [1.0004071] [-0.00092467]\n",
      "200 1.1147855e-07 [1.000388] [-0.00088149]\n",
      "220 1.01217864e-07 [1.0003695] [-0.00084008]\n",
      "240 9.2009486e-08 [1.0003526] [-0.00080076]\n",
      "260 8.359836e-08 [1.0003359] [-0.00076337]\n",
      "280 7.594871e-08 [1.0003201] [-0.00072746]\n",
      "300 6.9027685e-08 [1.0003054] [-0.00069343]\n",
      "320 6.2724155e-08 [1.0002911] [-0.00066113]\n",
      "340 5.6932695e-08 [1.000277] [-0.00063008]\n",
      "360 5.1724754e-08 [1.0002644] [-0.00060049]\n",
      "380 4.705422e-08 [1.0002522] [-0.00057251]\n",
      "400 4.274247e-08 [1.0002403] [-0.00054587]\n",
      "420 3.8802046e-08 [1.0002286] [-0.00052019]\n",
      "440 3.526253e-08 [1.0002182] [-0.00049573]\n",
      "460 3.2052025e-08 [1.0002083] [-0.00047258]\n",
      "480 2.9166381e-08 [1.0001987] [-0.00045071]\n",
      "500 2.6478617e-08 [1.0001892] [-0.00042977]\n",
      "520 2.4038542e-08 [1.00018] [-0.00040949]\n",
      "540 2.1830024e-08 [1.0001717] [-0.0003902]\n",
      "560 1.9847548e-08 [1.0001639] [-0.00037195]\n",
      "580 1.8057417e-08 [1.0001564] [-0.00035469]\n",
      "600 1.64432e-08 [1.0001493] [-0.00033835]\n",
      "620 1.495197e-08 [1.0001421] [-0.00032269]\n",
      "640 1.3560619e-08 [1.0001351] [-0.00030748]\n",
      "660 1.2311308e-08 [1.0001287] [-0.00029288]\n",
      "680 1.1165876e-08 [1.0001228] [-0.00027908]\n",
      "700 1.0147328e-08 [1.0001172] [-0.00026603]\n",
      "720 9.238003e-09 [1.0001118] [-0.00025369]\n",
      "740 8.410761e-09 [1.0001068] [-0.00024201]\n",
      "760 7.660443e-09 [1.000102] [-0.00023096]\n",
      "780 6.9831096e-09 [1.0000973] [-0.00022042]\n",
      "800 6.336967e-09 [1.0000925] [-0.00021021]\n",
      "820 5.7423235e-09 [1.0000877] [-0.00020022]\n",
      "840 5.2139533e-09 [1.0000837] [-0.0001906]\n",
      "860 4.7316617e-09 [1.0000798] [-0.00018151]\n",
      "880 4.292044e-09 [1.000076] [-0.00017292]\n",
      "900 3.9037893e-09 [1.0000726] [-0.00016479]\n",
      "920 3.5417809e-09 [1.0000691] [-0.0001571]\n",
      "940 3.2270293e-09 [1.000066] [-0.00014982]\n",
      "960 2.9320877e-09 [1.0000632] [-0.00014295]\n",
      "980 2.6775488e-09 [1.0000603] [-0.00013645]\n",
      "1000 2.437967e-09 [1.0000577] [-0.0001303]\n",
      "1020 2.2282727e-09 [1.0000552] [-0.00012449]\n",
      "1040 2.0343738e-09 [1.0000528] [-0.000119]\n",
      "1060 1.8579319e-09 [1.0000504] [-0.00011374]\n",
      "1080 1.6921019e-09 [1.000048] [-0.00010865]\n",
      "1100 1.5384778e-09 [1.0000457] [-0.00010367]\n",
      "1120 1.3959524e-09 [1.0000433] [-9.875852e-05]\n",
      "1140 1.2580598e-09 [1.0000409] [-9.389399e-05]\n",
      "1160 1.1398159e-09 [1.0000389] [-8.919993e-05]\n",
      "1180 1.0302017e-09 [1.000037] [-8.4754996e-05]\n",
      "1200 9.25791e-10 [1.0000352] [-8.055525e-05]\n",
      "1220 8.4263857e-10 [1.0000335] [-7.659034e-05]\n",
      "1240 7.560601e-10 [1.0000318] [-7.283922e-05]\n",
      "1260 6.8421e-10 [1.0000304] [-6.9289155e-05]\n",
      "1280 6.199012e-10 [1.000029] [-6.594135e-05]\n",
      "1300 5.6417687e-10 [1.0000275] [-6.277914e-05]\n",
      "1320 5.118288e-10 [1.0000262] [-5.9789756e-05]\n",
      "1340 4.6433613e-10 [1.000025] [-5.6950987e-05]\n",
      "1360 4.2178408e-10 [1.0000238] [-5.4273944e-05]\n",
      "1380 3.847731e-10 [1.0000229] [-5.173956e-05]\n",
      "1400 3.4873912e-10 [1.0000218] [-4.9349816e-05]\n",
      "1420 3.16471e-10 [1.0000209] [-4.7088808e-05]\n",
      "1440 2.8816297e-10 [1.0000199] [-4.4954966e-05]\n",
      "1460 2.6526928e-10 [1.0000191] [-4.293993e-05]\n",
      "1480 2.433893e-10 [1.0000182] [-4.1034968e-05]\n",
      "1500 2.2037246e-10 [1.0000174] [-3.9233324e-05]\n",
      "1520 2.040963e-10 [1.0000167] [-3.752585e-05]\n",
      "1540 1.8542916e-10 [1.000016] [-3.591652e-05]\n",
      "1560 1.7214201e-10 [1.0000154] [-3.439143e-05]\n",
      "1580 1.5753325e-10 [1.0000148] [-3.2954158e-05]\n",
      "1600 1.427954e-10 [1.0000142] [-3.15912e-05]\n",
      "1620 1.3272938e-10 [1.0000136] [-3.0304132e-05]\n",
      "1640 1.2281968e-10 [1.0000131] [-2.909058e-05]\n",
      "1660 1.14019606e-10 [1.0000125] [-2.794339e-05]\n",
      "1680 1.0407083e-10 [1.0000122] [-2.6851036e-05]\n",
      "1700 9.742607e-11 [1.0000117] [-2.5825442e-05]\n",
      "1720 9.013116e-11 [1.0000112] [-2.4857463e-05]\n",
      "1740 8.306363e-11 [1.0000108] [-2.3924456e-05]\n",
      "1760 7.746929e-11 [1.0000105] [-2.3070123e-05]\n",
      "1780 7.33813e-11 [1.0000101] [-2.2248769e-05]\n",
      "1800 6.73405e-11 [1.0000098] [-2.1473508e-05]\n",
      "1820 6.217249e-11 [1.0000094] [-2.0740763e-05]\n",
      "1840 5.955769e-11 [1.0000092] [-2.0056104e-05]\n",
      "1860 5.5276672e-11 [1.000009] [-1.939211e-05]\n",
      "1880 5.136395e-11 [1.0000086] [-1.8771821e-05]\n",
      "1900 4.8976528e-11 [1.0000083] [-1.8196039e-05]\n",
      "1920 4.5853692e-11 [1.0000081] [-1.7637343e-05]\n",
      "1940 4.2960597e-11 [1.000008] [-1.7104077e-05]\n",
      "1960 4.162004e-11 [1.0000077] [-1.663439e-05]\n",
      "1980 3.8091013e-11 [1.0000075] [-1.6152384e-05]\n",
      "2000 3.7161385e-11 [1.0000073] [-1.5723626e-05]\n"
     ]
    }
   ],
   "source": [
    "for step in range(2001):\n",
    "    cost_val, w_val, b_val, _ = \\\n",
    "    sess.run([cost, w, b, train],\n",
    "            feed_dict = {x : [1,2,3], y : [1,2,3]})\n",
    "    if step % 20 == 0:\n",
    "        print(step, cost_val, w_val, b_val)\n",
    "#cost_val, w_val, b_val 은 return 값"
   ]
  },
  {
   "cell_type": "code",
   "execution_count": null,
   "metadata": {},
   "outputs": [],
   "source": [
    "#Training and test with placeholders"
   ]
  },
  {
   "cell_type": "code",
   "execution_count": 37,
   "metadata": {
    "scrolled": true
   },
   "outputs": [
    {
     "name": "stdout",
     "output_type": "stream",
     "text": [
      "0 2.565862 [0.8252201] [0.0416944]\n",
      "20 0.13988747 [1.2408162] [0.22294663]\n",
      "40 0.12212195 [1.2268704] [0.28089124]\n",
      "60 0.106649995 [1.2120208] [0.33453757]\n",
      "80 0.09313821 [1.1981354] [0.38466832]\n",
      "100 0.0813383 [1.1851594] [0.43151587]\n",
      "120 0.07103337 [1.1730331] [0.47529548]\n",
      "140 0.062033962 [1.1617011] [0.5162079]\n",
      "160 0.05417476 [1.1511111] [0.5544408]\n",
      "180 0.047311228 [1.1412147] [0.59016985]\n",
      "200 0.041317243 [1.1319665] [0.623559]\n",
      "220 0.03608264 [1.1233239] [0.65476155]\n",
      "240 0.031511214 [1.1152472] [0.68392056]\n",
      "260 0.027519027 [1.1076998] [0.7111698]\n",
      "280 0.024032582 [1.1006464] [0.7366345]\n",
      "300 0.020987844 [1.094055] [0.7604314]\n",
      "320 0.018328853 [1.0878953] [0.78267]\n",
      "340 0.01600672 [1.0821389] [0.8034522]\n",
      "360 0.013978787 [1.0767596] [0.8228734]\n",
      "380 0.012207761 [1.0717326] [0.8410227]\n",
      "400 0.010661143 [1.0670347] [0.85798323]\n",
      "420 0.00931046 [1.0626446] [0.87383306]\n",
      "440 0.008130884 [1.0585419] [0.8886449]\n",
      "460 0.0071007633 [1.054708] [0.90248674]\n",
      "480 0.0062011443 [1.0511249] [0.9154221]\n",
      "500 0.0054154964 [1.0477768] [0.9275103]\n",
      "520 0.0047294004 [1.0446479] [0.9388067]\n",
      "540 0.0041302363 [1.041724] [0.9493633]\n",
      "560 0.003606957 [1.0389913] [0.95922863]\n",
      "580 0.0031499788 [1.0364377] [0.96844786]\n",
      "600 0.0027509008 [1.0340514] [0.9770634]\n",
      "620 0.0024023762 [1.0318214] [0.98511463]\n",
      "640 0.0020980148 [1.0297374] [0.9926386]\n",
      "660 0.001832211 [1.0277898] [0.99966973]\n",
      "680 0.0016000879 [1.0259699] [1.0062404]\n",
      "700 0.0013973739 [1.0242691] [1.0123806]\n",
      "720 0.0012203378 [1.0226798] [1.0181189]\n",
      "740 0.0010657333 [1.0211946] [1.0234812]\n",
      "760 0.00093071273 [1.0198064] [1.0284926]\n",
      "780 0.00081279164 [1.0185091] [1.0331758]\n",
      "800 0.00070981577 [1.017297] [1.037552]\n",
      "820 0.0006198932 [1.0161643] [1.0416417]\n",
      "840 0.0005413589 [1.0151057] [1.0454636]\n",
      "860 0.00047277403 [1.0141164] [1.0490348]\n",
      "880 0.0004128834 [1.0131919] [1.0523727]\n",
      "900 0.0003605673 [1.012328] [1.055492]\n",
      "920 0.00031488054 [1.0115206] [1.0584071]\n",
      "940 0.0002749904 [1.010766] [1.0611311]\n",
      "960 0.00024015398 [1.010061] [1.0636766]\n",
      "980 0.00020972386 [1.009402] [1.0660555]\n",
      "1000 0.00018315119 [1.0087862] [1.0682787]\n",
      "1020 0.00015994348 [1.0082107] [1.0703566]\n",
      "1040 0.00013968242 [1.007673] [1.0722979]\n",
      "1060 0.00012198603 [1.0071706] [1.0741122]\n",
      "1080 0.00010653166 [1.0067009] [1.0758075]\n",
      "1100 9.30327e-05 [1.0062621] [1.077392]\n",
      "1120 8.124734e-05 [1.005852] [1.0788724]\n",
      "1140 7.0956485e-05 [1.0054687] [1.0802559]\n",
      "1160 6.196745e-05 [1.0051107] [1.0815488]\n",
      "1180 5.411705e-05 [1.004776] [1.082757]\n",
      "1200 4.7261343e-05 [1.0044632] [1.0838863]\n",
      "1220 4.1274925e-05 [1.004171] [1.0849413]\n",
      "1240 3.6045265e-05 [1.0038979] [1.0859275]\n",
      "1260 3.147827e-05 [1.0036426] [1.0868491]\n",
      "1280 2.7488928e-05 [1.0034039] [1.0877105]\n",
      "1300 2.4007402e-05 [1.003181] [1.0885154]\n",
      "1320 2.0964657e-05 [1.0029726] [1.0892676]\n",
      "1340 1.831102e-05 [1.0027782] [1.0899698]\n",
      "1360 1.5991005e-05 [1.0025963] [1.0906268]\n",
      "1380 1.3965475e-05 [1.0024261] [1.0912406]\n",
      "1400 1.2196126e-05 [1.0022674] [1.0918143]\n",
      "1420 1.0651089e-05 [1.0021188] [1.0923502]\n",
      "1440 9.301755e-06 [1.0019801] [1.0928512]\n",
      "1460 8.123555e-06 [1.0018504] [1.0933193]\n",
      "1480 7.0936208e-06 [1.0017292] [1.0937569]\n",
      "1500 6.1953106e-06 [1.001616] [1.0941657]\n",
      "1520 5.41075e-06 [1.0015103] [1.0945477]\n",
      "1540 4.72561e-06 [1.0014113] [1.0949047]\n",
      "1560 4.1267326e-06 [1.0013188] [1.0952384]\n",
      "1580 3.6041863e-06 [1.0012326] [1.0955502]\n",
      "1600 3.1474306e-06 [1.0011518] [1.0958415]\n",
      "1620 2.7484214e-06 [1.0010763] [1.0961139]\n",
      "1640 2.4001126e-06 [1.0010058] [1.0963684]\n",
      "1660 2.0957482e-06 [1.00094] [1.0966065]\n",
      "1680 1.8303957e-06 [1.0008785] [1.0968287]\n",
      "1700 1.5987468e-06 [1.0008209] [1.0970364]\n",
      "1720 1.3960489e-06 [1.0007671] [1.0972304]\n",
      "1740 1.2193747e-06 [1.0007169] [1.0974119]\n",
      "1760 1.0648266e-06 [1.0006701] [1.0975813]\n",
      "1780 9.2985357e-07 [1.0006261] [1.0977396]\n",
      "1800 8.1219224e-07 [1.0005851] [1.0978874]\n",
      "1820 7.0954667e-07 [1.0005468] [1.0980257]\n",
      "1840 6.197258e-07 [1.000511] [1.0981548]\n",
      "1860 5.41345e-07 [1.0004776] [1.0982755]\n",
      "1880 4.727151e-07 [1.0004463] [1.0983884]\n",
      "1900 4.127603e-07 [1.0004172] [1.0984939]\n",
      "1920 3.6067195e-07 [1.00039] [1.0985924]\n",
      "1940 3.1490043e-07 [1.0003644] [1.0986844]\n",
      "1960 2.7511257e-07 [1.0003405] [1.0987704]\n",
      "1980 2.403272e-07 [1.0003184] [1.0988508]\n",
      "2000 2.0987969e-07 [1.0002974] [1.0989261]\n"
     ]
    }
   ],
   "source": [
    "import tensorflow.compat.v1 as tf\n",
    "tf.disable_v2_behavior()\n",
    "w = tf.Variable(tf.random.normal([1]), name = 'weight')\n",
    "b = tf.Variable(tf.random.normal([1]), name = 'bias')\n",
    "x = tf.placeholder(tf.float32, shape=[None])\n",
    "y = tf.placeholder(tf.float32, shape=[None])\n",
    "\n",
    "#Our hypothesis XW+b\n",
    "hypothesis = x * w + b\n",
    "\n",
    "#cost/loss function\n",
    "cost = tf.reduce_mean(tf.square(hypothesis - y))\n",
    "\n",
    "#Minimize\n",
    "optimizer = tf.train.GradientDescentOptimizer(learning_rate = 0.01)\n",
    "train = optimizer.minimize(cost)\n",
    "\n",
    "#Launch the graph in a session\n",
    "sess = tf.Session()\n",
    "\n",
    "#Initializes global variables in the graph\n",
    "sess.run(tf.global_variables_initializer())\n",
    "\n",
    "#Fit the line with new training data\n",
    "for step in range(2001):\n",
    "    cost_val, w_val, b_val, _ = sess.run([cost, w, b, train],\n",
    "                                        feed_dict={x:[1,2,3,4,5],\n",
    "                                                  y:[2.1,3.1,4.1,5.1,6.1]})\n",
    "    if step % 20 == 0:\n",
    "        print(step, cost_val, w_val, b_val)"
   ]
  },
  {
   "cell_type": "code",
   "execution_count": 38,
   "metadata": {},
   "outputs": [
    {
     "name": "stdout",
     "output_type": "stream",
     "text": [
      "[6.1004124]\n",
      "[3.0995226 6.1004124]\n",
      "[2.5993743 4.599967 ]\n"
     ]
    }
   ],
   "source": [
    "#testing our model\n",
    "print(sess.run(hypothesis, feed_dict = {x:[5]}))\n",
    "print(sess.run(hypothesis, feed_dict = {x: [2,5]}))\n",
    "print(sess.run(hypothesis, feed_dict = {x: [1.5, 3.5]}))"
   ]
  },
  {
   "cell_type": "code",
   "execution_count": 4,
   "metadata": {},
   "outputs": [
    {
     "name": "stdout",
     "output_type": "stream",
     "text": [
      "WARNING:tensorflow:From C:\\Users\\abcd4\\Anaconda3\\lib\\site-packages\\tensorflow_core\\python\\compat\\v2_compat.py:65: disable_resource_variables (from tensorflow.python.ops.variable_scope) is deprecated and will be removed in a future version.\n",
      "Instructions for updating:\n",
      "non-resource variables are not supported in the long term\n"
     ]
    }
   ],
   "source": [
    "import tensorflow.compat.v1 as tf\n",
    "tf.disable_v2_behavior()\n",
    "import matplotlib.pyplot as plt"
   ]
  },
  {
   "cell_type": "code",
   "execution_count": 8,
   "metadata": {},
   "outputs": [
    {
     "name": "stdout",
     "output_type": "stream",
     "text": [
      "0 0.6396932 [0.62976074]\n",
      "1 0.1819572 [0.80253905]\n",
      "2 0.05175672 [0.8946875]\n",
      "3 0.014721937 [0.9438333]\n",
      "4 0.004187564 [0.97004443]\n",
      "5 0.0011911277 [0.9840237]\n",
      "6 0.0003388147 [0.9914793]\n",
      "7 9.6374126e-05 [0.9954556]\n",
      "8 2.741166e-05 [0.99757636]\n",
      "9 7.7975355e-06 [0.99870735]\n",
      "10 2.2176916e-06 [0.9993106]\n",
      "11 6.309961e-07 [0.9996323]\n",
      "12 1.7950309e-07 [0.9998039]\n",
      "13 5.1031506e-08 [0.99989545]\n",
      "14 1.4487423e-08 [0.99994427]\n",
      "15 4.1247255e-09 [0.99997026]\n",
      "16 1.1768719e-09 [0.99998415]\n",
      "17 3.3229242e-10 [0.99999154]\n",
      "18 9.576221e-11 [0.99999547]\n",
      "19 2.8162361e-11 [0.99999756]\n",
      "20 7.716494e-12 [0.9999987]\n"
     ]
    }
   ],
   "source": [
    "x = [1,2,3]\n",
    "y = [1,2,3]\n",
    "\n",
    "W = tf.Variable(tf.random_normal([1]), name = 'weight')\n",
    "X = tf.placeholder(tf.float32)\n",
    "Y = tf.placeholder(tf.float32)\n",
    "\n",
    "#Our hypothesis for linear model X * W\n",
    "hypothesis = X * W\n",
    "\n",
    "#cost/loss function\n",
    "cost = tf.reduce_mean(tf.square(hypothesis - Y))\n",
    "\n",
    "#minimize: Gradient Descent using derivative : w -= learning_rate * derivative\n",
    "learning_rate = 0.1\n",
    "gradient = tf.reduce_mean((W * X - Y) * X)\n",
    "descent = W - learning_rate * gradient\n",
    "update = W.assign(descent)\n",
    "\n",
    "#Launch the graph in a session\n",
    "sess = tf.Session()\n",
    "\n",
    "#Initializes global variables in teh graph\n",
    "sess.run(tf.global_variables_initializer())\n",
    "for step in range(21):\n",
    "    sess.run(update, feed_dict = {X: x, Y:y})\n",
    "    print(step, sess.run(cost, feed_dict={X:x, Y:y}), sess.run(W))\n"
   ]
  },
  {
   "cell_type": "code",
   "execution_count": 6,
   "metadata": {},
   "outputs": [
    {
     "data": {
      "image/png": "[encoded data removed]",
      "text/plain": [
       "<Figure size 432x288 with 1 Axes>"
      ]
     },
     "metadata": {},
     "output_type": "display_data"
    }
   ],
   "source": [
    "#variables fo plotting cost function\n",
    "w_val = []\n",
    "cost_val = []\n",
    "for i in range(-30, 50):\n",
    "    feed_w = i * 0.1\n",
    "    curr_cost, curr_w = sess.run([cost, w], feed_dict={w:feed_w})\n",
    "    w_val.append(curr_w)\n",
    "    cost_val.append(curr_cost)\n",
    "    \n",
    "#show the cost function\n",
    "plt.plot(w_val, cost_val)\n",
    "plt.show()"
   ]
  },
  {
   "cell_type": "code",
   "execution_count": null,
   "metadata": {},
   "outputs": [],
   "source": [
    "#minimize: Gradient Descent using derivative : \n",
    "#w -= learning_rate * derivative\n",
    "learning_rate = 0.1\n",
    "gradient = tf.reduce_mean((w * x - y) * x)\n",
    "descent = w - learning_rate * gradient\n",
    "update = w.assign(descent)"
   ]
  },
  {
   "cell_type": "code",
   "execution_count": 11,
   "metadata": {},
   "outputs": [
    {
     "name": "stdout",
     "output_type": "stream",
     "text": [
      "0 -3.0\n",
      "1 0.7333336\n",
      "2 0.98222226\n",
      "3 0.9988148\n",
      "4 0.99992096\n",
      "5 0.9999947\n",
      "6 0.99999964\n",
      "7 0.99999994\n",
      "8 1.0\n",
      "9 1.0\n",
      "10 1.0\n",
      "11 1.0\n",
      "12 1.0\n",
      "13 1.0\n",
      "14 1.0\n"
     ]
    }
   ],
   "source": [
    "import tensorflow.compat.v1 as tf\n",
    "tf.disable_v2_behavior()\n",
    "\n",
    "X = [1,2,3]\n",
    "Y = [1,2,3]\n",
    "\n",
    "#set wrong model weights\n",
    "W = tf.Variable(-3.0)\n",
    "\n",
    "#linear model\n",
    "hypothesis = X * W\n",
    "\n",
    "#cost/loss function\n",
    "cost = tf.reduce_mean(tf.square(hypothesis - Y))\n",
    "\n",
    "#minimize: Gradient Descent Magic\n",
    "optimizer = tf.train.GradientDescentOptimizer(learning_rate = 0.1)\n",
    "train = optimizer.minimize(cost)\n",
    "\n",
    "#Launch the graph in a session\n",
    "sess = tf.Session()\n",
    "\n",
    "#Initializes global variables in teh graph\n",
    "sess.run(tf.global_variables_initializer())\n",
    "for step in range(15):\n",
    "    print(step, sess.run(W))\n",
    "    sess.run(train)\n",
    "    "
   ]
  },
  {
   "cell_type": "code",
   "execution_count": null,
   "metadata": {},
   "outputs": [],
   "source": []
  },
  {
   "cell_type": "code",
   "execution_count": null,
   "metadata": {},
   "outputs": [],
   "source": []
  }
 ],
 "metadata": {
  "kernelspec": {
   "display_name": "Python 3",
   "language": "python",
   "name": "python3"
  },
  "language_info": {
   "codemirror_mode": {
    "name": "ipython",
    "version": 3
   },
   "file_extension": ".py",
   "mimetype": "text/x-python",
   "name": "python",
   "nbconvert_exporter": "python",
   "pygments_lexer": "ipython3",
   "version": "3.6.5"
  }
 },
 "nbformat": 4,
 "nbformat_minor": 2
}
